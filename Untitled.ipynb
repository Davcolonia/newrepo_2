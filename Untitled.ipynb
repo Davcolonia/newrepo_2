{
 "cells": [
  {
   "cell_type": "code",
   "execution_count": 15,
   "metadata": {},
   "outputs": [
    {
     "name": "stdout",
     "output_type": "stream",
     "text": [
      "enter number: 2037\n",
      "2 2\n"
     ]
    }
   ],
   "source": [
    "num = input(\"enter number: \")\n",
    "digits = [int(digit) for digit in num]\n",
    "even = 0\n",
    "odd = 0\n",
    "for i in range(len(digits)):  \n",
    "    if digits[i] % 2 == 0:\n",
    "        even += 1\n",
    "    else: \n",
    "        odd += 1\n",
    "print(even, odd) "
   ]
  },
  {
   "cell_type": "code",
   "execution_count": null,
   "metadata": {
    "scrolled": true
   },
   "outputs": [],
   "source": [
    "def count_odd(n):\n",
    "    odds = 0 \n",
    "    evens = 0 \n",
    "    \n",
    "    while n != 0:\n",
    "        current_digit = n % 10\n",
    "        if current digit % 2:\n",
    "            odds += 1\n",
    "        else: \n",
    "            evens += 1\n",
    "        n = n // 10\n",
    "    return [\"Evens: \" + str(evens), \"Odds: \" + str(odds)]\n"
   ]
  },
  {
   "cell_type": "code",
   "execution_count": null,
   "metadata": {},
   "outputs": [],
   "source": [
    "num = input(\"Enter a number: \")\n",
    "digits = [int(digit) for digit in num]\n",
    "even = []\n",
    "odd = []\n",
    "for i in range(len(digits)): \n",
    "    if digits[i] % 2 == 0:\n",
    "        even.append(digits[i])\n",
    "    else: \n",
    "        odd.append(digits[i])\n",
    "print(even, odd) "
   ]
  },
  {
   "cell_type": "code",
   "execution_count": null,
   "metadata": {},
   "outputs": [],
   "source": [
    "string = [\"Everything\", \"is\", \"hard\", \"before\", \"it\", \"is\", \"easy\"]\n",
    "temp = []\n",
    "index = len(string) \n",
    "for i in (index):\n",
    "    temp[0] = string[0]\n",
    "    string[0] = string[len(string) - 1]\n",
    "    temp[0] = string[6] \n",
    "    #index -= 1                    # index = index - 1\n",
    "    #new_string += string[index]  # new_string = new_string + character\n",
    "print(string)"
   ]
  },
  {
   "cell_type": "code",
   "execution_count": null,
   "metadata": {},
   "outputs": [],
   "source": []
  },
  {
   "cell_type": "code",
   "execution_count": 145,
   "metadata": {
    "scrolled": true
   },
   "outputs": [
    {
     "name": "stdout",
     "output_type": "stream",
     "text": [
      "easy is it before hard is Everything\n"
     ]
    }
   ],
   "source": [
    "text = \"Everything is hard before it is easy\"\n",
    "a = []\n",
    "words = text.split()\n",
    "for i in range(1,len(words) + 1):\n",
    "    a.append(words[len(words) -i])\n",
    "    new = \" \".join(a)\n",
    "print(new)"
   ]
  },
  {
   "cell_type": "code",
   "execution_count": 147,
   "metadata": {},
   "outputs": [
    {
     "name": "stdout",
     "output_type": "stream",
     "text": [
      "bbaac\n"
     ]
    }
   ],
   "source": [
    "#could not figure out how to deal with odd character string\n",
    "s = 'aacbb'\n",
    "length = len(s)\n",
    "half = length // 2\n",
    "add = 0 \n",
    "if length % 2: \n",
    "    add = 1\n",
    "first = s[:half + add]\n",
    "second = s[half + add:]\n",
    "print(second+first)"
   ]
  },
  {
   "cell_type": "code",
   "execution_count": null,
   "metadata": {},
   "outputs": [],
   "source": []
  },
  {
   "cell_type": "code",
   "execution_count": 1,
   "metadata": {},
   "outputs": [
    {
     "name": "stdout",
     "output_type": "stream",
     "text": [
      "[['a', 'b', 'c'], ['a', 'c', 'b'], ['b', 'a', 'c'], ['b', 'c', 'a'], ['c', 'a', 'b'], ['c', 'b', 'a']]\n"
     ]
    }
   ],
   "source": [
    "list1 = ['a', 'b', 'c']\n",
    "listPerm = [[a, b, c]\n",
    "            for a in list1\n",
    "            for b in list1\n",
    "            for c in list1\n",
    "            if ( a != b and b != c and a != c )\n",
    "            ]\n",
    "print(listPerm)"
   ]
  },
  {
   "cell_type": "code",
   "execution_count": 32,
   "metadata": {},
   "outputs": [
    {
     "name": "stdout",
     "output_type": "stream",
     "text": [
      "vowles:  3\n",
      "consenants:  8\n"
     ]
    }
   ],
   "source": [
    "string = \"hello world\"\n",
    "vowels = 0 \n",
    "consenants = 0 \n",
    "for i in string:\n",
    "    if(i == 'a' or i == 'e'  or i == 'i' or i == 'o' or i == 'u'):\n",
    "        vowels += 1\n",
    "    else: \n",
    "        consenants +=1\n",
    "print(\"vowles: \", vowels)\n",
    "print(\"consenants: \", consenants)"
   ]
  }
 ],
 "metadata": {
  "kernelspec": {
   "display_name": "Python 3",
   "language": "python",
   "name": "python3"
  },
  "language_info": {
   "codemirror_mode": {
    "name": "ipython",
    "version": 3
   },
   "file_extension": ".py",
   "mimetype": "text/x-python",
   "name": "python",
   "nbconvert_exporter": "python",
   "pygments_lexer": "ipython3",
   "version": "3.6.5"
  }
 },
 "nbformat": 4,
 "nbformat_minor": 2
}
