{
 "cells": [
  {
   "cell_type": "code",
   "execution_count": 15,
   "metadata": {},
   "outputs": [
    {
     "name": "stdout",
     "output_type": "stream",
     "text": [
      "enter number: 2037\n",
      "2 2\n"
     ]
    }
   ],
   "source": [
    "num = input(\"enter number: \")\n",
    "digits = [int(digit) for digit in num]\n",
    "even = 0\n",
    "odd = 0\n",
    "for i in range(len(digits)):  \n",
    "    if digits[i] % 2 == 0:\n",
    "        even += 1\n",
    "    else: \n",
    "        odd += 1\n",
    "print(even, odd) "
   ]
  },
  {
   "cell_type": "code",
   "execution_count": null,
   "metadata": {
    "scrolled": true
   },
   "outputs": [],
   "source": [
    "def count_odd(n):\n",
    "    odds = 0 \n",
    "    evens = 0 \n",
    "    \n",
    "    while n != 0:\n",
    "        current_digit = n % 10\n",
    "        if current digit % 2:\n",
    "            odds += 1\n",
    "        else: \n",
    "            evens += 1\n",
    "        n = n // 10\n",
    "    return [\"Evens: \" + str(evens), \"Odds: \" + str(odds)]\n"
   ]
  },
  {
   "cell_type": "code",
   "execution_count": 2,
   "metadata": {},
   "outputs": [
    {
     "name": "stdout",
     "output_type": "stream",
     "text": [
      "Enter a number: 3028\n",
      "[0, 2, 8] [3]\n"
     ]
    }
   ],
   "source": [
    "num = input(\"Enter a number: \")\n",
    "digits = [int(digit) for digit in num]\n",
    "even = []\n",
    "odd = []\n",
    "for i in range(len(digits)): \n",
    "    if digits[i] % 2 == 0:\n",
    "        even.append(digits[i])\n",
    "    else: \n",
    "        odd.append(digits[i])\n",
    "print(even, odd) "
   ]
  }
 ],
 "metadata": {
  "kernelspec": {
   "display_name": "Python 3",
   "language": "python",
   "name": "python3"
  }
 },
 "nbformat": 4,
 "nbformat_minor": 2
}
